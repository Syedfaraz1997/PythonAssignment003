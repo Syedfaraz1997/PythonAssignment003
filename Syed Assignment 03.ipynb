{
 "cells": [
  {
   "cell_type": "code",
   "execution_count": 1,
   "metadata": {},
   "outputs": [
    {
     "name": "stdout",
     "output_type": "stream",
     "text": [
      "Please Enter Your First Value :23\n",
      "Please Enter Your Operator*\n",
      "Please Enter Your Second Value: 6\n",
      "138.0\n"
     ]
    }
   ],
   "source": [
    "# Question No 01:\n",
    "Val1 = float(input(\"Please Enter Your First Value :\"));\n",
    "Operator = input(\"Please Enter Your Operator\");\n",
    "Val2 = float(input(\"Please Enter Your Second Value: \"));\n",
    "\n",
    "if Operator == '+':\n",
    "    Result = Val1 + Val2;\n",
    "    print(Result);\n",
    "elif Operator == '-':\n",
    "    Result = Val1 - Val2;\n",
    "    print(Result);\n",
    "elif Operator == '*':\n",
    "    Result = Val1 * Val2;\n",
    "    print(Result);\n",
    "elif Operator == '/':\n",
    "    Result = Val1 / Val2;\n",
    "    print(Result);\n",
    "else:\n",
    "    print(\"Your Result is NOT accurate :\");"
   ]
  },
  {
   "cell_type": "code",
   "execution_count": 2,
   "metadata": {},
   "outputs": [
    {
     "name": "stdout",
     "output_type": "stream",
     "text": [
      "['123', '212', '123', '131']\n"
     ]
    }
   ],
   "source": [
    "# Question 02:    \n",
    " \n",
    "    \n",
    "Info = ['123',\"Ishtiaque\",'212','123',\"faraz\",'131'];\n",
    "InfoNew = [];\n",
    "\n",
    "for item in Info:\n",
    "    if(item.isnumeric()):\n",
    "        InfoNew.append(item)\n",
    "        \n",
    "print(InfoNew);"
   ]
  },
  {
   "cell_type": "code",
   "execution_count": 3,
   "metadata": {},
   "outputs": [
    {
     "name": "stdout",
     "output_type": "stream",
     "text": [
      "{1: 'faraz', 2: 'Salman', 3: 'Umer'}\n",
      "{1: 'faraz', 2: 'Salman', 3: 'Umer', 4: 'faraz'}\n"
     ]
    }
   ],
   "source": [
    "# Question no # 03:\n",
    "\n",
    "Info = { 1:\"faraz\",\n",
    "       2:\"Salman\",\n",
    "       3:\"Umer\"}\n",
    "print(Info);\n",
    "Info.update({4:\"faraz\"})\n",
    "print(Info);"
   ]
  },
  {
   "cell_type": "code",
   "execution_count": 4,
   "metadata": {},
   "outputs": [
    {
     "name": "stdout",
     "output_type": "stream",
     "text": [
      "1075\n"
     ]
    }
   ],
   "source": [
    "# Question No 04 :\n",
    "Num = {'a':135, 'b':330, 'c':380, 'd':230};\n",
    "print(sum(Num.values()));"
   ]
  },
  {
   "cell_type": "code",
   "execution_count": 5,
   "metadata": {},
   "outputs": [
    {
     "name": "stdout",
     "output_type": "stream",
     "text": [
      "[23, 12, 25, 11, 10, 7]\n"
     ]
    }
   ],
   "source": [
    "# Question 05:\n",
    "\n",
    "Number = [23,12,23,25,11,12,10,7,12];\n",
    "Unique = [];\n",
    "\n",
    "for new in Number:\n",
    "    if new not in Unique:\n",
    "        Unique.append(new);\n",
    "print(Unique)"
   ]
  },
  {
   "cell_type": "code",
   "execution_count": 6,
   "metadata": {},
   "outputs": [
    {
     "name": "stdout",
     "output_type": "stream",
     "text": [
      "Key is present in the dictionary\n",
      "Key is not present in the dictionary\n"
     ]
    }
   ],
   "source": [
    "# Question 06\n",
    "\n",
    "#Question # 06:\n",
    "values = {1: 123, 2: 20, 3: 30, 4: 40, 5: 50, 6: 60}\n",
    "def is_key_present(check):\n",
    "    if check in values:\n",
    "        print('Key is present in the dictionary');\n",
    "    else:\n",
    "        print('Key is not present in the dictionary');\n",
    "is_key_present(2);\n",
    "is_key_present(7);"
   ]
  },
  {
   "cell_type": "code",
   "execution_count": null,
   "metadata": {},
   "outputs": [],
   "source": []
  }
 ],
 "metadata": {
  "kernelspec": {
   "display_name": "Python 3",
   "language": "python",
   "name": "python3"
  },
  "language_info": {
   "codemirror_mode": {
    "name": "ipython",
    "version": 3
   },
   "file_extension": ".py",
   "mimetype": "text/x-python",
   "name": "python",
   "nbconvert_exporter": "python",
   "pygments_lexer": "ipython3",
   "version": "3.7.4"
  }
 },
 "nbformat": 4,
 "nbformat_minor": 2
}
